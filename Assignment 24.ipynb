{
 "cells": [
  {
   "cell_type": "markdown",
   "id": "d95fc06f-0df3-4701-bc1f-9aa98df0ca6a",
   "metadata": {},
   "source": [
    "1. What is the relationship between def statements and lambda expressions ?\n",
    "\n",
    "def is a keyword that doesn't return anything and creates a 'name' in the local namespace. lambda is a keyword that returns a function object and does not create a 'name' in the local namespace"
   ]
  },
  {
   "cell_type": "markdown",
   "id": "6d721cc1-2380-47ed-80fd-9af169a253d3",
   "metadata": {},
   "source": [
    "2. What is the benefit of lambda?\n",
    "\n",
    "Lambda functions allow you to create small, single-use functions that can save time and space in your code. \n",
    "They ares also useful when you need to call a function that expects a function as an argument for a callback such as Map() and Filter() \n",
    "ex. \n",
    "\n",
    "raw_data = [3, 4, 6, 7, 11, 14, 19, 25, 45, 49, 53, 68, 72]\n",
    " \n",
    "filtered_data = list(filter(lambda val: (val > 55), raw_data))\n",
    " \n",
    "print(filtered_data)"
   ]
  },
  {
   "cell_type": "markdown",
   "id": "b5ed57d6-842e-4c90-8e47-842ad40f9205",
   "metadata": {},
   "source": [
    "3. Compare and contrast map, filter, and reduce.\n",
    "\n",
    "Map( )\n",
    "\n",
    "Being a higher-order function, the map function takes another function and an iterable\n",
    "(e.g., a list, set, tuple) as input, applies the function to the iterable, and returns an output. It’s syntax is defined as follows:\n",
    "\n",
    "map(function, iterable)\n",
    "\n",
    "Filter\n",
    "\n",
    "Similar to map(), the filter() higher-order function takes a function and an iterable as inputs. The function in case needs to be of a Boolean nature, returning True/False values corresponding to the filter conditions. As output, it returns a subset of the input data that meets the conditions stipulated by the function.\n",
    "\n",
    "Reduce\n",
    "\n",
    "Unlike the previous two functions, reduce() must be imported from functools to work properly. It returns a single value (i.e., it reduces the input to a single element). Commonly, this would be something like the sum of all elements in a list."
   ]
  },
  {
   "cell_type": "markdown",
   "id": "ecfbffa3-6a68-4be9-8d1a-d4460d38c255",
   "metadata": {},
   "source": [
    "4. What are function annotations, and how are they used?\n",
    "\n",
    "Function annotations are some random expressions which are written with the functions, \n",
    "and they are evaluated at compile time. They do not exist at run time, and there is no meaning of these expressions to python. \n",
    "They are used and interpreted by a third party or external python libraries."
   ]
  },
  {
   "cell_type": "markdown",
   "id": "83b162ab-ebde-4c54-819c-3d49be4ea095",
   "metadata": {},
   "source": [
    "5. What are recursive functions, and how are they used? \n",
    "\n",
    "it is a process in which a function calls itself directly or indirectly. \n",
    "Advantages of using recursion\n",
    "\n",
    "A complicated function can be split down into smaller sub-problems utilizing recursion.\n",
    "Sequence creation is simpler through recursion than utilizing any nested iteration.\n",
    "Recursive functions render the code look simple and effective\n",
    "\n",
    "EX:\n",
    "\n",
    "def tri_recursion(k):\n",
    "  if(k>0):\n",
    "    result = k+tri_recursion(k-1)\n",
    "    print(result)\n",
    "  else:\n",
    "    result = 0\n",
    "  return result\n",
    "\n",
    "print(\"\\n\\nRecursion Example Results\")\n",
    "tri_recursion(6)"
   ]
  },
  {
   "cell_type": "markdown",
   "id": "06dfc0bb-b8e0-4c11-8ad8-248998c8c18b",
   "metadata": {},
   "source": [
    "6. What are some general design guidelines for coding functions?\n",
    "\n",
    "1. Use 4-space indentation and no tabs.\n",
    "2. Use docstrings : There are both single and multi-line docstrings that can be used in Python. However,\n",
    "the single line comment fits in one line, triple quotes are used in both cases. These are used to define a particular program or\n",
    "define a particular function\n",
    "3. Wrap lines so that they don’t exceed 79 characters\n",
    "4. Use of regular and updated comments are valuable to both the coders and users \n",
    "5. Use Python’s default UTF-8 or ASCII encodings and not any fancy encodings, if it is meant for international environment.\n",
    "\n",
    "6. Use spaces around operators and after commas, but not directly inside bracketing constructs:\n",
    "    "
   ]
  },
  {
   "cell_type": "markdown",
   "id": "f2510703-5255-49f5-ad51-58167907acfc",
   "metadata": {},
   "source": [
    "7. Name three or more ways that functions can communicate results to a caller.\n",
    "\n",
    "Built-in functions, such as help() to ask for help, min() to get the minimum value,\n",
    "print() to print an object to the terminal,… You can find an overview with more of these functions here.\n",
    "User-Defined Functions (UDFs), which are functions that users create to help them out; And\n",
    "Anonymous functions, which are also called lambda functions because they are not declared with the standard def keyword."
   ]
  }
 ],
 "metadata": {
  "kernelspec": {
   "display_name": "Python 3 (ipykernel)",
   "language": "python",
   "name": "python3"
  },
  "language_info": {
   "codemirror_mode": {
    "name": "ipython",
    "version": 3
   },
   "file_extension": ".py",
   "mimetype": "text/x-python",
   "name": "python",
   "nbconvert_exporter": "python",
   "pygments_lexer": "ipython3",
   "version": "3.10.6"
  }
 },
 "nbformat": 4,
 "nbformat_minor": 5
}
